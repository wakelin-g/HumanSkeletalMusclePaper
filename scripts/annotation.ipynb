{
 "cells": [
  {
   "cell_type": "code",
   "execution_count": 1,
   "metadata": {},
   "outputs": [
    {
     "data": {
      "text/plain": [
       "'/mnt/c/Users/gwakelin/Desktop/johnstonLab_Projects/alasdair_paper/Reanalyzing_Alasdair_Scrublet_07252022gw'"
      ]
     },
     "execution_count": 1,
     "metadata": {},
     "output_type": "execute_result"
    }
   ],
   "source": [
    "import scanpy as sc\n",
    "import scanpy.external as sce\n",
    "import matplotlib.pyplot as plt\n",
    "from matplotlib import rcParams, rc_context\n",
    "from scToolsGW import percent_cluster_expressing_gene, subsample_by_cluster\n",
    "import numpy as np\n",
    "import seaborn as sns\n",
    "import os\n",
    "rcParams['svg.fonttype'] = 'none'\n",
    "\n",
    "os.getcwd()"
   ]
  },
  {
   "cell_type": "code",
   "execution_count": 2,
   "metadata": {},
   "outputs": [
    {
     "name": "stdout",
     "output_type": "stream",
     "text": [
      "Running Scanpy 1.9.1, on 2022-08-09 14:30.\n"
     ]
    }
   ],
   "source": [
    "sc.set_figure_params(scanpy=True, frameon=False, format='svg', transparent=True, vector_friendly=False, figsize=[4,4], dpi=80, dpi_save=300, color_map='viridis_r')\n",
    "sc.logging.print_version_and_date()"
   ]
  },
  {
   "cell_type": "code",
   "execution_count": 94,
   "metadata": {},
   "outputs": [
    {
     "data": {
      "text/plain": [
       "(2208, 33538)"
      ]
     },
     "execution_count": 94,
     "metadata": {},
     "output_type": "execute_result"
    }
   ],
   "source": [
    "adata = sc.read_h5ad('human_scrublet_processed.h5ad')\n",
    "adata.shape"
   ]
  },
  {
   "cell_type": "code",
   "execution_count": 22,
   "metadata": {},
   "outputs": [
    {
     "name": "stdout",
     "output_type": "stream",
     "text": [
      "WARNING: It seems you use rank_genes_groups on the raw count data. Please logarithmize your data before calling rank_genes_groups.\n"
     ]
    }
   ],
   "source": [
    "# fix weird anndata thing that happens when object is reloaded\n",
    "adata.uns['log1p']['base'] = None\n",
    "\n",
    "# find DEGs\n",
    "sc.tl.rank_genes_groups(adata, groupby='leiden', method='wilcoxon', pts=True)\n",
    "df = sc.get.rank_genes_groups_df(adata, group=None, pval_cutoff=0.05)"
   ]
  },
  {
   "cell_type": "code",
   "execution_count": 23,
   "metadata": {},
   "outputs": [
    {
     "name": "stderr",
     "output_type": "stream",
     "text": [
      "/tmp/ipykernel_15249/3260220380.py:1: UserWarning: Boolean Series key will be reindexed to match DataFrame index.\n",
      "  df[df['group']=='10'][df['scores'] > 0].sort_values('scores',ascending=False)\n"
     ]
    },
    {
     "data": {
      "text/html": [
       "<div>\n",
       "<style scoped>\n",
       "    .dataframe tbody tr th:only-of-type {\n",
       "        vertical-align: middle;\n",
       "    }\n",
       "\n",
       "    .dataframe tbody tr th {\n",
       "        vertical-align: top;\n",
       "    }\n",
       "\n",
       "    .dataframe thead th {\n",
       "        text-align: right;\n",
       "    }\n",
       "</style>\n",
       "<table border=\"1\" class=\"dataframe\">\n",
       "  <thead>\n",
       "    <tr style=\"text-align: right;\">\n",
       "      <th></th>\n",
       "      <th>group</th>\n",
       "      <th>names</th>\n",
       "      <th>scores</th>\n",
       "      <th>logfoldchanges</th>\n",
       "      <th>pvals</th>\n",
       "      <th>pvals_adj</th>\n",
       "      <th>pct_nz_group</th>\n",
       "      <th>pct_nz_reference</th>\n",
       "    </tr>\n",
       "  </thead>\n",
       "  <tbody>\n",
       "    <tr>\n",
       "      <th>14347</th>\n",
       "      <td>10</td>\n",
       "      <td>KRT18</td>\n",
       "      <td>8.069164</td>\n",
       "      <td>10.678263</td>\n",
       "      <td>7.078120e-16</td>\n",
       "      <td>2.373860e-11</td>\n",
       "      <td>0.958333</td>\n",
       "      <td>0.007784</td>\n",
       "    </tr>\n",
       "    <tr>\n",
       "      <th>14348</th>\n",
       "      <td>10</td>\n",
       "      <td>STMN1</td>\n",
       "      <td>5.921572</td>\n",
       "      <td>5.368426</td>\n",
       "      <td>3.188788e-09</td>\n",
       "      <td>3.687118e-06</td>\n",
       "      <td>0.750000</td>\n",
       "      <td>0.074176</td>\n",
       "    </tr>\n",
       "    <tr>\n",
       "      <th>14349</th>\n",
       "      <td>10</td>\n",
       "      <td>MDK</td>\n",
       "      <td>4.641258</td>\n",
       "      <td>5.366926</td>\n",
       "      <td>3.462942e-06</td>\n",
       "      <td>1.248819e-03</td>\n",
       "      <td>0.583333</td>\n",
       "      <td>0.047619</td>\n",
       "    </tr>\n",
       "    <tr>\n",
       "      <th>14350</th>\n",
       "      <td>10</td>\n",
       "      <td>TDO2</td>\n",
       "      <td>4.570112</td>\n",
       "      <td>29.560928</td>\n",
       "      <td>4.874643e-06</td>\n",
       "      <td>1.668222e-03</td>\n",
       "      <td>0.541667</td>\n",
       "      <td>0.000000</td>\n",
       "    </tr>\n",
       "    <tr>\n",
       "      <th>14351</th>\n",
       "      <td>10</td>\n",
       "      <td>BASP1</td>\n",
       "      <td>3.923516</td>\n",
       "      <td>4.139868</td>\n",
       "      <td>8.726588e-05</td>\n",
       "      <td>1.773771e-02</td>\n",
       "      <td>0.500000</td>\n",
       "      <td>0.032051</td>\n",
       "    </tr>\n",
       "    <tr>\n",
       "      <th>14352</th>\n",
       "      <td>10</td>\n",
       "      <td>CCND1</td>\n",
       "      <td>3.635228</td>\n",
       "      <td>3.519483</td>\n",
       "      <td>2.777345e-04</td>\n",
       "      <td>4.452199e-02</td>\n",
       "      <td>0.500000</td>\n",
       "      <td>0.075092</td>\n",
       "    </tr>\n",
       "    <tr>\n",
       "      <th>14353</th>\n",
       "      <td>10</td>\n",
       "      <td>MEST</td>\n",
       "      <td>3.622995</td>\n",
       "      <td>3.073484</td>\n",
       "      <td>2.912114e-04</td>\n",
       "      <td>4.563855e-02</td>\n",
       "      <td>0.500000</td>\n",
       "      <td>0.068681</td>\n",
       "    </tr>\n",
       "  </tbody>\n",
       "</table>\n",
       "</div>"
      ],
      "text/plain": [
       "      group  names    scores  logfoldchanges         pvals     pvals_adj  \\\n",
       "14347    10  KRT18  8.069164       10.678263  7.078120e-16  2.373860e-11   \n",
       "14348    10  STMN1  5.921572        5.368426  3.188788e-09  3.687118e-06   \n",
       "14349    10    MDK  4.641258        5.366926  3.462942e-06  1.248819e-03   \n",
       "14350    10   TDO2  4.570112       29.560928  4.874643e-06  1.668222e-03   \n",
       "14351    10  BASP1  3.923516        4.139868  8.726588e-05  1.773771e-02   \n",
       "14352    10  CCND1  3.635228        3.519483  2.777345e-04  4.452199e-02   \n",
       "14353    10   MEST  3.622995        3.073484  2.912114e-04  4.563855e-02   \n",
       "\n",
       "       pct_nz_group  pct_nz_reference  \n",
       "14347      0.958333          0.007784  \n",
       "14348      0.750000          0.074176  \n",
       "14349      0.583333          0.047619  \n",
       "14350      0.541667          0.000000  \n",
       "14351      0.500000          0.032051  \n",
       "14352      0.500000          0.075092  \n",
       "14353      0.500000          0.068681  "
      ]
     },
     "execution_count": 23,
     "metadata": {},
     "output_type": "execute_result"
    }
   ],
   "source": [
    "df[df['group']=='10'][df['scores'] > 0].sort_values('scores',ascending=False)"
   ]
  },
  {
   "cell_type": "code",
   "execution_count": 25,
   "metadata": {},
   "outputs": [
    {
     "name": "stderr",
     "output_type": "stream",
     "text": [
      "/tmp/ipykernel_15249/1754903726.py:2: ImplicitModificationWarning: Trying to modify attribute `.obs` of view, initializing view as actual.\n",
      "  adata.obs['cell_types'] = adata.obs['leiden'].copy()\n"
     ]
    }
   ],
   "source": [
    "adata = adata[~adata.obs['leiden'].isin(['10'])]\n",
    "adata.obs['cell_types'] = adata.obs['leiden'].copy()\n",
    "# annotated clusters based on expression of known markers\n",
    "adata.obs['cell_types'].cat.categories = ['EC1','FAP','PC','EC2','SAT','StrPC','T1MC','T2MC','LYM','MYEL']"
   ]
  },
  {
   "cell_type": "code",
   "execution_count": 27,
   "metadata": {},
   "outputs": [
    {
     "data": {
      "text/plain": [
       "EC1      562\n",
       "FAP      440\n",
       "PC       306\n",
       "EC2      277\n",
       "SAT      201\n",
       "StrPC    143\n",
       "T1MC      75\n",
       "T2MC      70\n",
       "LYM       58\n",
       "MYEL      52\n",
       "Name: cell_types, dtype: int64"
      ]
     },
     "execution_count": 27,
     "metadata": {},
     "output_type": "execute_result"
    }
   ],
   "source": [
    "adata.obs['cell_types'].value_counts()"
   ]
  },
  {
   "cell_type": "code",
   "execution_count": null,
   "metadata": {},
   "outputs": [],
   "source": [
    "# save object\n",
    "adata.write('human_annotated.h5ad',compression='gzip')"
   ]
  }
 ],
 "metadata": {
  "kernelspec": {
   "display_name": "Python 3.10.4 ('scvi-tools')",
   "language": "python",
   "name": "python3"
  },
  "language_info": {
   "codemirror_mode": {
    "name": "ipython",
    "version": 3
   },
   "file_extension": ".py",
   "mimetype": "text/x-python",
   "name": "python",
   "nbconvert_exporter": "python",
   "pygments_lexer": "ipython3",
   "version": "3.10.4"
  },
  "orig_nbformat": 4,
  "vscode": {
   "interpreter": {
    "hash": "3bba2bedb870089e765bd737cdb748cd6d1f2f23d9a6c7e0032c9418c29d70e5"
   }
  }
 },
 "nbformat": 4,
 "nbformat_minor": 2
}
